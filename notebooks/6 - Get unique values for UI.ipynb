{
 "cells": [
  {
   "cell_type": "code",
   "execution_count": 20,
   "metadata": {},
   "outputs": [],
   "source": [
    "# for data\n",
    "import pandas as pd\n",
    "import numpy as np\n",
    "from pandasgui import show\n",
    "import os\n",
    "import sys\n",
    "\n",
    "import datetime\n",
    "\n",
    "# for plotting\n",
    "import matplotlib.pyplot as plt\n",
    "import seaborn as sns"
   ]
  },
  {
   "cell_type": "code",
   "execution_count": 21,
   "metadata": {},
   "outputs": [],
   "source": [
    "parent_folder = os.path.dirname(os.getcwd())"
   ]
  },
  {
   "cell_type": "code",
   "execution_count": 22,
   "metadata": {},
   "outputs": [],
   "source": [
    "aviation_data_path = os.path.join(\n",
    "    parent_folder, 'data', 'clean_aviation_data_2.csv')\n",
    "\n",
    "\n",
    "df = pd.read_csv(aviation_data_path, encoding='latin-1')"
   ]
  },
  {
   "cell_type": "code",
   "execution_count": 23,
   "metadata": {},
   "outputs": [],
   "source": [
    "# gui = show(df)"
   ]
  },
  {
   "cell_type": "code",
   "execution_count": 24,
   "metadata": {},
   "outputs": [
    {
     "data": {
      "text/plain": [
       "Unnamed: 0               int64\n",
       "location                object\n",
       "injury_severity         object\n",
       "aircraft_damage         object\n",
       "make                    object\n",
       "model                   object\n",
       "number_of_engines      float64\n",
       "engine_type             object\n",
       "weather_conditions      object\n",
       "phase_of_flight         object\n",
       "Year                     int64\n",
       "Month                    int64\n",
       "Day                      int64\n",
       "injuries               float64\n",
       "pax_onboard            float64\n",
       "fatality_percentage    float64\n",
       "survived               float64\n",
       "AmateurBuilt            object\n",
       "dtype: object"
      ]
     },
     "execution_count": 24,
     "metadata": {},
     "output_type": "execute_result"
    }
   ],
   "source": [
    "df.dtypes"
   ]
  },
  {
   "cell_type": "code",
   "execution_count": 25,
   "metadata": {},
   "outputs": [
    {
     "name": "stderr",
     "output_type": "stream",
     "text": [
      "C:\\Users\\Makara PC\\AppData\\Local\\Temp\\ipykernel_14388\\1768498327.py:1: FutureWarning: The default value of regex will change from True to False in a future version.\n",
      "  df['injury_severity'] = df['injury_severity'].str.replace('\\d+', '')\n"
     ]
    }
   ],
   "source": [
    "df['injury_severity'] = df['injury_severity'].str.replace('\\d+', '')"
   ]
  },
  {
   "cell_type": "code",
   "execution_count": 26,
   "metadata": {},
   "outputs": [],
   "source": [
    "cols = ['injury_severity']\n",
    "for col in cols:\n",
    "    df[col] = df[col].map(lambda x: str(x).lstrip(' ()').rstrip(' ()'))"
   ]
  },
  {
   "cell_type": "code",
   "execution_count": 27,
   "metadata": {},
   "outputs": [],
   "source": [
    "df = df.rename(columns={'injury_severity': 'target',\n",
    "               'AmateurBuilt': 'amateur_built'})"
   ]
  },
  {
   "cell_type": "code",
   "execution_count": 28,
   "metadata": {},
   "outputs": [],
   "source": [
    "# gui = show(df)"
   ]
  },
  {
   "cell_type": "code",
   "execution_count": 29,
   "metadata": {},
   "outputs": [],
   "source": [
    "df.replace({'target': {'Incident': 'Non-Fatal'}}, inplace=True)"
   ]
  },
  {
   "cell_type": "code",
   "execution_count": 30,
   "metadata": {},
   "outputs": [
    {
     "data": {
      "text/html": [
       "<div>\n",
       "<style scoped>\n",
       "    .dataframe tbody tr th:only-of-type {\n",
       "        vertical-align: middle;\n",
       "    }\n",
       "\n",
       "    .dataframe tbody tr th {\n",
       "        vertical-align: top;\n",
       "    }\n",
       "\n",
       "    .dataframe thead th {\n",
       "        text-align: right;\n",
       "    }\n",
       "</style>\n",
       "<table border=\"1\" class=\"dataframe\">\n",
       "  <thead>\n",
       "    <tr style=\"text-align: right;\">\n",
       "      <th></th>\n",
       "      <th>Unnamed: 0</th>\n",
       "      <th>location</th>\n",
       "      <th>target</th>\n",
       "      <th>aircraft_damage</th>\n",
       "      <th>make</th>\n",
       "      <th>model</th>\n",
       "      <th>number_of_engines</th>\n",
       "      <th>engine_type</th>\n",
       "      <th>weather_conditions</th>\n",
       "      <th>phase_of_flight</th>\n",
       "      <th>Year</th>\n",
       "      <th>Month</th>\n",
       "      <th>Day</th>\n",
       "      <th>injuries</th>\n",
       "      <th>pax_onboard</th>\n",
       "      <th>fatality_percentage</th>\n",
       "      <th>survived</th>\n",
       "      <th>amateur_built</th>\n",
       "    </tr>\n",
       "  </thead>\n",
       "  <tbody>\n",
       "    <tr>\n",
       "      <th>0</th>\n",
       "      <td>0</td>\n",
       "      <td>CAMBRIA, NY</td>\n",
       "      <td>Non-Fatal</td>\n",
       "      <td>Destroyed</td>\n",
       "      <td>Unknown</td>\n",
       "      <td>64</td>\n",
       "      <td>1.0</td>\n",
       "      <td>Reciprocating</td>\n",
       "      <td>VMC</td>\n",
       "      <td>CLIMB</td>\n",
       "      <td>1982</td>\n",
       "      <td>6</td>\n",
       "      <td>13</td>\n",
       "      <td>1.0</td>\n",
       "      <td>1.0</td>\n",
       "      <td>0.0</td>\n",
       "      <td>1.0</td>\n",
       "      <td>No</td>\n",
       "    </tr>\n",
       "    <tr>\n",
       "      <th>1</th>\n",
       "      <td>1</td>\n",
       "      <td>MCWHORTER, KY</td>\n",
       "      <td>Non-Fatal</td>\n",
       "      <td>Destroyed</td>\n",
       "      <td>Unknown</td>\n",
       "      <td>KR-2</td>\n",
       "      <td>1.0</td>\n",
       "      <td>Reciprocating</td>\n",
       "      <td>VMC</td>\n",
       "      <td>CRUISE</td>\n",
       "      <td>1982</td>\n",
       "      <td>7</td>\n",
       "      <td>1</td>\n",
       "      <td>2.0</td>\n",
       "      <td>2.0</td>\n",
       "      <td>0.0</td>\n",
       "      <td>2.0</td>\n",
       "      <td>Yes</td>\n",
       "    </tr>\n",
       "    <tr>\n",
       "      <th>2</th>\n",
       "      <td>2</td>\n",
       "      <td>FREDERICK, MD</td>\n",
       "      <td>Fatal</td>\n",
       "      <td>Destroyed</td>\n",
       "      <td>Unknown</td>\n",
       "      <td>WINDWAGON</td>\n",
       "      <td>1.0</td>\n",
       "      <td>Reciprocating</td>\n",
       "      <td>VMC</td>\n",
       "      <td>APPROACH</td>\n",
       "      <td>1982</td>\n",
       "      <td>7</td>\n",
       "      <td>16</td>\n",
       "      <td>1.0</td>\n",
       "      <td>1.0</td>\n",
       "      <td>100.0</td>\n",
       "      <td>0.0</td>\n",
       "      <td>Yes</td>\n",
       "    </tr>\n",
       "    <tr>\n",
       "      <th>3</th>\n",
       "      <td>3</td>\n",
       "      <td>VENTURA, CA</td>\n",
       "      <td>Non-Fatal</td>\n",
       "      <td>Destroyed</td>\n",
       "      <td>Unknown</td>\n",
       "      <td>MIDGET MUSTANG</td>\n",
       "      <td>1.0</td>\n",
       "      <td>Reciprocating</td>\n",
       "      <td>VMC</td>\n",
       "      <td>MANEUVERING</td>\n",
       "      <td>1982</td>\n",
       "      <td>8</td>\n",
       "      <td>21</td>\n",
       "      <td>0.0</td>\n",
       "      <td>1.0</td>\n",
       "      <td>0.0</td>\n",
       "      <td>1.0</td>\n",
       "      <td>Yes</td>\n",
       "    </tr>\n",
       "    <tr>\n",
       "      <th>4</th>\n",
       "      <td>4</td>\n",
       "      <td>SIDNEY, NE</td>\n",
       "      <td>Non-Fatal</td>\n",
       "      <td>Substantial</td>\n",
       "      <td>Unknown</td>\n",
       "      <td>SKYBOLT</td>\n",
       "      <td>1.0</td>\n",
       "      <td>Reciprocating</td>\n",
       "      <td>VMC</td>\n",
       "      <td>LANDING</td>\n",
       "      <td>1982</td>\n",
       "      <td>8</td>\n",
       "      <td>24</td>\n",
       "      <td>0.0</td>\n",
       "      <td>1.0</td>\n",
       "      <td>0.0</td>\n",
       "      <td>1.0</td>\n",
       "      <td>Yes</td>\n",
       "    </tr>\n",
       "  </tbody>\n",
       "</table>\n",
       "</div>"
      ],
      "text/plain": [
       "   Unnamed: 0       location     target aircraft_damage     make  \\\n",
       "0           0    CAMBRIA, NY  Non-Fatal       Destroyed  Unknown   \n",
       "1           1  MCWHORTER, KY  Non-Fatal       Destroyed  Unknown   \n",
       "2           2  FREDERICK, MD      Fatal       Destroyed  Unknown   \n",
       "3           3    VENTURA, CA  Non-Fatal       Destroyed  Unknown   \n",
       "4           4     SIDNEY, NE  Non-Fatal     Substantial  Unknown   \n",
       "\n",
       "            model  number_of_engines    engine_type weather_conditions  \\\n",
       "0              64                1.0  Reciprocating                VMC   \n",
       "1            KR-2                1.0  Reciprocating                VMC   \n",
       "2       WINDWAGON                1.0  Reciprocating                VMC   \n",
       "3  MIDGET MUSTANG                1.0  Reciprocating                VMC   \n",
       "4         SKYBOLT                1.0  Reciprocating                VMC   \n",
       "\n",
       "  phase_of_flight  Year  Month  Day  injuries  pax_onboard  \\\n",
       "0           CLIMB  1982      6   13       1.0          1.0   \n",
       "1          CRUISE  1982      7    1       2.0          2.0   \n",
       "2        APPROACH  1982      7   16       1.0          1.0   \n",
       "3     MANEUVERING  1982      8   21       0.0          1.0   \n",
       "4         LANDING  1982      8   24       0.0          1.0   \n",
       "\n",
       "   fatality_percentage  survived amateur_built  \n",
       "0                  0.0       1.0            No  \n",
       "1                  0.0       2.0           Yes  \n",
       "2                100.0       0.0           Yes  \n",
       "3                  0.0       1.0           Yes  \n",
       "4                  0.0       1.0           Yes  "
      ]
     },
     "execution_count": 30,
     "metadata": {},
     "output_type": "execute_result"
    }
   ],
   "source": [
    "df.head()"
   ]
  },
  {
   "cell_type": "code",
   "execution_count": 31,
   "metadata": {},
   "outputs": [
    {
     "data": {
      "text/plain": [
       "Non-Fatal    39511\n",
       "Fatal         9150\n",
       "Name: target, dtype: int64"
      ]
     },
     "execution_count": 31,
     "metadata": {},
     "output_type": "execute_result"
    }
   ],
   "source": [
    "df.target.value_counts(ascending=False)"
   ]
  },
  {
   "cell_type": "code",
   "execution_count": 32,
   "metadata": {},
   "outputs": [
    {
     "data": {
      "text/plain": [
       "Unnamed: 0               int64\n",
       "location                object\n",
       "target                  object\n",
       "aircraft_damage         object\n",
       "make                    object\n",
       "model                   object\n",
       "number_of_engines      float64\n",
       "engine_type             object\n",
       "weather_conditions      object\n",
       "phase_of_flight         object\n",
       "Year                     int64\n",
       "Month                    int64\n",
       "Day                      int64\n",
       "injuries               float64\n",
       "pax_onboard            float64\n",
       "fatality_percentage    float64\n",
       "survived               float64\n",
       "amateur_built           object\n",
       "dtype: object"
      ]
     },
     "execution_count": 32,
     "metadata": {},
     "output_type": "execute_result"
    }
   ],
   "source": [
    "df.dtypes"
   ]
  },
  {
   "cell_type": "code",
   "execution_count": 33,
   "metadata": {},
   "outputs": [
    {
     "data": {
      "text/html": [
       "<div>\n",
       "<style scoped>\n",
       "    .dataframe tbody tr th:only-of-type {\n",
       "        vertical-align: middle;\n",
       "    }\n",
       "\n",
       "    .dataframe tbody tr th {\n",
       "        vertical-align: top;\n",
       "    }\n",
       "\n",
       "    .dataframe thead th {\n",
       "        text-align: right;\n",
       "    }\n",
       "</style>\n",
       "<table border=\"1\" class=\"dataframe\">\n",
       "  <thead>\n",
       "    <tr style=\"text-align: right;\">\n",
       "      <th></th>\n",
       "      <th>Unnamed: 0</th>\n",
       "      <th>location</th>\n",
       "      <th>target</th>\n",
       "      <th>aircraft_damage</th>\n",
       "      <th>make</th>\n",
       "      <th>model</th>\n",
       "      <th>number_of_engines</th>\n",
       "      <th>engine_type</th>\n",
       "      <th>weather_conditions</th>\n",
       "      <th>phase_of_flight</th>\n",
       "      <th>Year</th>\n",
       "      <th>Month</th>\n",
       "      <th>Day</th>\n",
       "      <th>injuries</th>\n",
       "      <th>pax_onboard</th>\n",
       "      <th>fatality_percentage</th>\n",
       "      <th>survived</th>\n",
       "      <th>amateur_built</th>\n",
       "    </tr>\n",
       "  </thead>\n",
       "  <tbody>\n",
       "    <tr>\n",
       "      <th>0</th>\n",
       "      <td>0</td>\n",
       "      <td>CAMBRIA, NY</td>\n",
       "      <td>Non-Fatal</td>\n",
       "      <td>Destroyed</td>\n",
       "      <td>Unknown</td>\n",
       "      <td>64</td>\n",
       "      <td>1.0</td>\n",
       "      <td>Reciprocating</td>\n",
       "      <td>VMC</td>\n",
       "      <td>CLIMB</td>\n",
       "      <td>1982</td>\n",
       "      <td>6</td>\n",
       "      <td>13</td>\n",
       "      <td>1.0</td>\n",
       "      <td>1.0</td>\n",
       "      <td>0.0</td>\n",
       "      <td>1.0</td>\n",
       "      <td>No</td>\n",
       "    </tr>\n",
       "    <tr>\n",
       "      <th>1</th>\n",
       "      <td>1</td>\n",
       "      <td>MCWHORTER, KY</td>\n",
       "      <td>Non-Fatal</td>\n",
       "      <td>Destroyed</td>\n",
       "      <td>Unknown</td>\n",
       "      <td>KR-2</td>\n",
       "      <td>1.0</td>\n",
       "      <td>Reciprocating</td>\n",
       "      <td>VMC</td>\n",
       "      <td>CRUISE</td>\n",
       "      <td>1982</td>\n",
       "      <td>7</td>\n",
       "      <td>1</td>\n",
       "      <td>2.0</td>\n",
       "      <td>2.0</td>\n",
       "      <td>0.0</td>\n",
       "      <td>2.0</td>\n",
       "      <td>Yes</td>\n",
       "    </tr>\n",
       "    <tr>\n",
       "      <th>2</th>\n",
       "      <td>2</td>\n",
       "      <td>FREDERICK, MD</td>\n",
       "      <td>Fatal</td>\n",
       "      <td>Destroyed</td>\n",
       "      <td>Unknown</td>\n",
       "      <td>WINDWAGON</td>\n",
       "      <td>1.0</td>\n",
       "      <td>Reciprocating</td>\n",
       "      <td>VMC</td>\n",
       "      <td>APPROACH</td>\n",
       "      <td>1982</td>\n",
       "      <td>7</td>\n",
       "      <td>16</td>\n",
       "      <td>1.0</td>\n",
       "      <td>1.0</td>\n",
       "      <td>100.0</td>\n",
       "      <td>0.0</td>\n",
       "      <td>Yes</td>\n",
       "    </tr>\n",
       "    <tr>\n",
       "      <th>3</th>\n",
       "      <td>3</td>\n",
       "      <td>VENTURA, CA</td>\n",
       "      <td>Non-Fatal</td>\n",
       "      <td>Destroyed</td>\n",
       "      <td>Unknown</td>\n",
       "      <td>MIDGET MUSTANG</td>\n",
       "      <td>1.0</td>\n",
       "      <td>Reciprocating</td>\n",
       "      <td>VMC</td>\n",
       "      <td>MANEUVERING</td>\n",
       "      <td>1982</td>\n",
       "      <td>8</td>\n",
       "      <td>21</td>\n",
       "      <td>0.0</td>\n",
       "      <td>1.0</td>\n",
       "      <td>0.0</td>\n",
       "      <td>1.0</td>\n",
       "      <td>Yes</td>\n",
       "    </tr>\n",
       "    <tr>\n",
       "      <th>4</th>\n",
       "      <td>4</td>\n",
       "      <td>SIDNEY, NE</td>\n",
       "      <td>Non-Fatal</td>\n",
       "      <td>Substantial</td>\n",
       "      <td>Unknown</td>\n",
       "      <td>SKYBOLT</td>\n",
       "      <td>1.0</td>\n",
       "      <td>Reciprocating</td>\n",
       "      <td>VMC</td>\n",
       "      <td>LANDING</td>\n",
       "      <td>1982</td>\n",
       "      <td>8</td>\n",
       "      <td>24</td>\n",
       "      <td>0.0</td>\n",
       "      <td>1.0</td>\n",
       "      <td>0.0</td>\n",
       "      <td>1.0</td>\n",
       "      <td>Yes</td>\n",
       "    </tr>\n",
       "  </tbody>\n",
       "</table>\n",
       "</div>"
      ],
      "text/plain": [
       "   Unnamed: 0       location     target aircraft_damage     make  \\\n",
       "0           0    CAMBRIA, NY  Non-Fatal       Destroyed  Unknown   \n",
       "1           1  MCWHORTER, KY  Non-Fatal       Destroyed  Unknown   \n",
       "2           2  FREDERICK, MD      Fatal       Destroyed  Unknown   \n",
       "3           3    VENTURA, CA  Non-Fatal       Destroyed  Unknown   \n",
       "4           4     SIDNEY, NE  Non-Fatal     Substantial  Unknown   \n",
       "\n",
       "            model  number_of_engines    engine_type weather_conditions  \\\n",
       "0              64                1.0  Reciprocating                VMC   \n",
       "1            KR-2                1.0  Reciprocating                VMC   \n",
       "2       WINDWAGON                1.0  Reciprocating                VMC   \n",
       "3  MIDGET MUSTANG                1.0  Reciprocating                VMC   \n",
       "4         SKYBOLT                1.0  Reciprocating                VMC   \n",
       "\n",
       "  phase_of_flight  Year  Month  Day  injuries  pax_onboard  \\\n",
       "0           CLIMB  1982      6   13       1.0          1.0   \n",
       "1          CRUISE  1982      7    1       2.0          2.0   \n",
       "2        APPROACH  1982      7   16       1.0          1.0   \n",
       "3     MANEUVERING  1982      8   21       0.0          1.0   \n",
       "4         LANDING  1982      8   24       0.0          1.0   \n",
       "\n",
       "   fatality_percentage  survived amateur_built  \n",
       "0                  0.0       1.0            No  \n",
       "1                  0.0       2.0           Yes  \n",
       "2                100.0       0.0           Yes  \n",
       "3                  0.0       1.0           Yes  \n",
       "4                  0.0       1.0           Yes  "
      ]
     },
     "execution_count": 33,
     "metadata": {},
     "output_type": "execute_result"
    }
   ],
   "source": [
    "df.head()"
   ]
  },
  {
   "cell_type": "code",
   "execution_count": 34,
   "metadata": {},
   "outputs": [
    {
     "data": {
      "text/plain": [
       "Index(['Unnamed: 0', 'location', 'target', 'aircraft_damage', 'make', 'model',\n",
       "       'number_of_engines', 'engine_type', 'weather_conditions',\n",
       "       'phase_of_flight', 'Year', 'Month', 'Day', 'injuries', 'pax_onboard',\n",
       "       'fatality_percentage', 'survived', 'amateur_built'],\n",
       "      dtype='object')"
      ]
     },
     "execution_count": 34,
     "metadata": {},
     "output_type": "execute_result"
    }
   ],
   "source": [
    "df.columns"
   ]
  },
  {
   "cell_type": "code",
   "execution_count": 35,
   "metadata": {},
   "outputs": [],
   "source": [
    "json_path = os.path.join(parent_folder, 'data', 'jsons')"
   ]
  },
  {
   "cell_type": "code",
   "execution_count": 36,
   "metadata": {},
   "outputs": [],
   "source": [
    "path = os.path.join(json_path, 'make_counts.json')\n",
    "\n",
    "make_counts = df['make'].value_counts()\n",
    "make_counts.to_json(path)"
   ]
  }
 ],
 "metadata": {
  "kernelspec": {
   "display_name": "ml-practice",
   "language": "python",
   "name": "python3"
  },
  "language_info": {
   "codemirror_mode": {
    "name": "ipython",
    "version": 3
   },
   "file_extension": ".py",
   "mimetype": "text/x-python",
   "name": "python",
   "nbconvert_exporter": "python",
   "pygments_lexer": "ipython3",
   "version": "3.11.5"
  }
 },
 "nbformat": 4,
 "nbformat_minor": 2
}
